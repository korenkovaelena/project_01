{
  "nbformat": 4,
  "nbformat_minor": 0,
  "metadata": {
    "colab": {
      "provenance": []
    },
    "kernelspec": {
      "name": "python3",
      "display_name": "Python 3"
    },
    "language_info": {
      "name": "python"
    }
  },
  "cells": [
    {
      "cell_type": "code",
      "execution_count": 1,
      "metadata": {
        "colab": {
          "base_uri": "https://localhost:8080/"
        },
        "id": "7obxuYzl6Sb1",
        "outputId": "1244863c-72bb-45e1-a641-f59d935a6891"
      },
      "outputs": [
        {
          "output_type": "execute_result",
          "data": {
            "text/plain": [
              "14"
            ]
          },
          "metadata": {},
          "execution_count": 1
        }
      ],
      "source": [
        "my_favorite_songs = 'Waste a Moment, Staying\\' Alive, A Sorta Fairytale, Start Me Up, New Salvation'\n",
        "# Выведите на консоль с помощью индексации строки, последовательно: первый трек, последний, второй, второй с конца\n"
      ]
    },
    {
      "cell_type": "code",
      "source": [
        "my_favorite_songs = 'Waste a Moment, Staying\\' Alive, A Sorta Fairytale, Start Me Up, New Salvation'\n",
        "x = my_favorite_songs.find(',')\n",
        "first = my_favorite_songs[:x] \n",
        "\n",
        "y = my_favorite_songs.rfind(',')\n",
        "last = my_favorite_songs[y+2:] \n",
        "\n",
        "g = my_favorite_songs.find(',', x+1)\n",
        "second = my_favorite_songs[x+1:g] \n",
        "\n",
        "\n",
        "f = my_favorite_songs.find(',', g+1)\n",
        "third = my_favorite_songs[g+2:f] \n",
        "\n",
        "\n",
        "h = my_favorite_songs.rfind(',', 0, y)\n",
        "second_from_the_end = my_favorite_songs[h+2:y] \n",
        "\n",
        "print('первый трек: ', first)\n",
        "print('последний: ', last,)\n",
        "print('второй: ', second,)\n",
        "print('второй с конца: ', second_from_the_end)\n",
        "print(first ,', ', last, ', ',second, ', ',second_from_the_end, sep='')"
      ],
      "metadata": {
        "colab": {
          "base_uri": "https://localhost:8080/"
        },
        "id": "3u3nqUyE638P",
        "outputId": "6b3dd76d-4a87-4d52-e9f8-c4972b4201df"
      },
      "execution_count": 51,
      "outputs": [
        {
          "output_type": "stream",
          "name": "stdout",
          "text": [
            "первый трек:  Waste a Moment\n",
            "последний:  New Salvation\n",
            "второй:   Staying' Alive\n",
            "второй с конца:  Start Me Up\n",
            "Waste a Moment, New Salvation,  Staying' Alive, Start Me Up\n"
          ]
        }
      ]
    }
  ]
}