{
 "cells": [
  {
   "cell_type": "code",
   "execution_count": null,
   "metadata": {},
   "outputs": [],
   "source": []
  }
 ],
 "metadata": {
  "kernelspec": {
   "display_name": "Python 3.8.7 ('project')",
   "language": "python",
   "name": "python3"
  },
  "language_info": {
   "name": "python",
   "version": "3.8.7"
  },
  "orig_nbformat": 4,
  "vscode": {
   "interpreter": {
    "hash": "5c727777edeb5d5c2dbe91a49ff407a968f0b5a21a8e9812e2e0ac1e78b4e4f7"
   }
  }
 },
 "nbformat": 4,
 "nbformat_minor": 2
}
